{
 "cells": [
  {
   "cell_type": "code",
   "execution_count": 1,
   "id": "c409fa3c-7735-48b0-844b-cf89f83808d7",
   "metadata": {},
   "outputs": [],
   "source": [
    "import requests\n",
    "import json\n",
    "import time\n",
    "import random\n",
    "import os\n",
    "\n",
    "import pandas as pd"
   ]
  },
  {
   "cell_type": "code",
   "execution_count": 2,
   "id": "24b0e186-2390-4334-82fb-07e33e114526",
   "metadata": {},
   "outputs": [],
   "source": [
    "# bearer_token = os.environ.get(\"BEARER_TOKEN\")"
   ]
  },
  {
   "cell_type": "code",
   "execution_count": 3,
   "id": "69433c11-f8be-494a-bb2c-8e4fc8194ceb",
   "metadata": {},
   "outputs": [],
   "source": [
    "bearer_token = \"AAAAAAAAAAAAAAAAAAAAAEFb0wEAAAAA0aganoy5AFhrqxVm%2Ffx3Afb06d4%3DCGAT4xP56t0jVq0YOpnyavlkSGqKBsLX9l9glHldS0TsVXUKTG\""
   ]
  },
  {
   "cell_type": "code",
   "execution_count": 4,
   "id": "3d13898e-8542-4b73-860d-51121b371503",
   "metadata": {},
   "outputs": [
    {
     "name": "stdout",
     "output_type": "stream",
     "text": [
      "AAAAAAAAAAAAAAAAAAAAAEFb0wEAAAAA0aganoy5AFhrqxVm%2Ffx3Afb06d4%3DCGAT4xP56t0jVq0YOpnyavlkSGqKBsLX9l9glHldS0TsVXUKTG\n"
     ]
    }
   ],
   "source": [
    "print(bearer_token)"
   ]
  },
  {
   "cell_type": "code",
   "execution_count": 5,
   "id": "18dcdd3f-7449-4503-8453-7b6ddc20034e",
   "metadata": {},
   "outputs": [],
   "source": [
    "endpoint_url = \"https://api.twitter.com/2/tweets/search/recent\""
   ]
  },
  {
   "cell_type": "code",
   "execution_count": 6,
   "id": "bdb5e7bd-71d8-4274-ad68-e8417e235327",
   "metadata": {},
   "outputs": [],
   "source": [
    "query_parameters = {\n",
    "    \"query\": '(\"heat map\" OR \"heat pumps\") lang:en -is:retweet',\n",
    "    \"tweet.fields\": \"id,text,author_id,created_at\",\n",
    "    \"max_results\":11\n",
    "}\n",
    "    "
   ]
  },
  {
   "cell_type": "code",
   "execution_count": 7,
   "id": "f3f4295c-f425-4e19-90f1-0eaf1798ab74",
   "metadata": {},
   "outputs": [
    {
     "data": {
      "text/plain": [
       "{'query': '(\"heat map\" OR \"heat pumps\") lang:en -is:retweet',\n",
       " 'tweet.fields': 'id,text,author_id,created_at',\n",
       " 'max_results': 11}"
      ]
     },
     "execution_count": 7,
     "metadata": {},
     "output_type": "execute_result"
    }
   ],
   "source": [
    "query_parameters"
   ]
  },
  {
   "cell_type": "code",
   "execution_count": 8,
   "id": "fa9ab2c4-4ae5-4faa-8f5b-24e3f0c5d37b",
   "metadata": {},
   "outputs": [],
   "source": [
    "def request_headers(bearer_token:str) -> dict:\n",
    "    \"\"\"\n",
    "    Sets up the request headers.\n",
    "    Returns a dictionary summarising the bearer token autentication details.\n",
    "    \"\"\"\n",
    "    return {\"Authorization\":\"Bearer {}\".format(bearer_token)}\n",
    "\n",
    "headers = request_headers(bearer_token)\n"
   ]
  },
  {
   "cell_type": "code",
   "execution_count": 9,
   "id": "88d71b17-5e22-4be5-b5e5-13d35d1d277f",
   "metadata": {},
   "outputs": [],
   "source": [
    "def connect_to_endpoint(endpoint_url: str, headers: dict, parameters: dict) -> json:\n",
    "    \"\"\"\n",
    "    Connects to the Twitter API endpoint and handles rate limiting (429) and server errors.\n",
    "    Will raise an Exception for client-side errors other than 429.\n",
    "    \"\"\"\n",
    "    response = requests.request(\"GET\", url=endpoint_url, headers=headers, params=parameters)\n",
    "    status_code = response.status_code\n",
    "\n",
    "    if status_code == 200:\n",
    "        return response.json()\n",
    "    \n",
    "    if status_code == 429:\n",
    "        # Trop de requêtes – attendre longtemps\n",
    "        wait_time = 900  # 15 minutes (en secondes)\n",
    "        print(f\"Rate limit exceeded. Sleeping for {wait_time // 60} minutes...\")\n",
    "        time.sleep(wait_time)\n",
    "        return connect_to_endpoint(endpoint_url, headers, parameters)\n",
    "    \n",
    "    elif 400 <= status_code < 500:\n",
    "        # Autres erreurs client (ex: mauvais token, URL incorrecte, etc.)\n",
    "        raise Exception(\n",
    "            f\"Client error – program will stop!\\nHTTP {status_code}: {response.text}\"\n",
    "        )\n",
    "    \n",
    "    else:\n",
    "        # Erreurs serveur ou inconnues\n",
    "        sleep_seconds = random.randint(2, 60)\n",
    "        print(\n",
    "            f\"Server error. Sleeping for {sleep_seconds} seconds...\\nHTTP {status_code}: {response.text}\"\n",
    "        )\n",
    "        time.sleep(sleep_seconds)\n",
    "        return connect_to_endpoint(endpoint_url, headers, parameters)\n"
   ]
  },
  {
   "cell_type": "code",
   "execution_count": null,
   "id": "7d8913ff-0e8a-4c14-8b7c-5ec140b6f6b9",
   "metadata": {},
   "outputs": [
    {
     "name": "stdout",
     "output_type": "stream",
     "text": [
      "Rate limit exceeded. Sleeping for 15 minutes...\n"
     ]
    }
   ],
   "source": [
    "json_response = connect_to_endpoint(endpoint_url, headers, query_parameters)"
   ]
  },
  {
   "cell_type": "code",
   "execution_count": null,
   "id": "53d13740-4d08-4a11-b0f0-7dca79049cff",
   "metadata": {},
   "outputs": [],
   "source": [
    "type(json_response)"
   ]
  },
  {
   "cell_type": "code",
   "execution_count": null,
   "id": "6f74d76b-cf74-44d9-9a80-aad09c6ae6a7",
   "metadata": {},
   "outputs": [],
   "source": [
    "json_response.keys()"
   ]
  },
  {
   "cell_type": "code",
   "execution_count": null,
   "id": "47f12c09-a990-4143-9969-9c1d343af7e4",
   "metadata": {},
   "outputs": [],
   "source": [
    "json_response['meta']"
   ]
  },
  {
   "cell_type": "code",
   "execution_count": null,
   "id": "361dd8b8-a2d1-4817-a02a-004c2df69b2e",
   "metadata": {},
   "outputs": [],
   "source": [
    "len(json_response['data'])"
   ]
  },
  {
   "cell_type": "code",
   "execution_count": null,
   "id": "7459bcf5-4133-466d-8f97-057f24979a78",
   "metadata": {},
   "outputs": [],
   "source": [
    "json_response['data'][0]"
   ]
  },
  {
   "cell_type": "code",
   "execution_count": null,
   "id": "fc3ced05-a1ae-4488-8f3c-75d3b2564310",
   "metadata": {},
   "outputs": [],
   "source": [
    "rules = [\n",
    "    {\"value\": '(\"heat pump\" OR \"heat pumps\") -is:retweet lang:en', \"tag\": \"heat_pump\"},\n",
    "    {\"value\": '(\"gas boiler\" OR \"gas boilers\") -is:retweet lang:en', \"tag\": \"gas_boiler\"},\n",
    "]"
   ]
  },
  {
   "cell_type": "code",
   "execution_count": null,
   "id": "a9a4e6e1-1748-4a45-befc-fe7f4c9ded80",
   "metadata": {},
   "outputs": [],
   "source": [
    "query_parameters = {\n",
    "    \"tweet.fields\": \"id,text,author_id,created_at\",\n",
    "    \"user.fields\": \"id,name,username,created_at,description,location,verified\",\n",
    "    \"expansions\": \"author_id\",\n",
    "    \"max_results\": 100,\n",
    "}"
   ]
  },
  {
   "cell_type": "code",
   "execution_count": null,
   "id": "1bc89f06-a5a8-4349-a715-31ee457bf5dc",
   "metadata": {},
   "outputs": [],
   "source": [
    "def process_twitter_data(\n",
    "    json_response: json,\n",
    "    query_tag: str,\n",
    "    tweets_data: pd.DataFrame,\n",
    "    users_data: pd.DataFrame,\n",
    ") -> (pd.DataFrame, pd.DataFrame):\n",
    "    \"\"\"\n",
    "    Adds new tweet/user information to the table of\n",
    "    tweets/users and saves dataframes as pickle files,\n",
    "    if data is avaiable.\n",
    "    \n",
    "    Returns the tweets and users updated dataframes.\n",
    "    \"\"\"\n",
    "    if \"data\" in json_response.keys():\n",
    "        new = pd.DataFrame(json_response[\"data\"])\n",
    "        tweets_data = pd.concat([tweets_data, new])\n",
    "        tweets_data.to_pickle(\"tweets_\" + query_tag + \".pkl\")\n",
    "\n",
    "        if \"users\" in json_response[\"includes\"].keys():\n",
    "            new = pd.DataFrame(json_response[\"includes\"][\"users\"])\n",
    "            users_data = pd.concat([users_data, new])\n",
    "            users_data.drop_duplicates(\"id\", inplace=True)\n",
    "            users_data.to_pickle(\"users_\" + query_tag + \".pkl\")\n",
    "\n",
    "    return tweets_data, users_data\n"
   ]
  },
  {
   "cell_type": "code",
   "execution_count": null,
   "id": "8170daf5-9e48-4818-ab11-514ae59d272e",
   "metadata": {},
   "outputs": [],
   "source": [
    "tweets_data = pd.DataFrame()\n",
    "users_data = pd.DataFrame()\n",
    "\n",
    "for i in range(len(rules)):\n",
    "    query_parameters[\"query\"] = rules[i][\"value\"]\n",
    "    query_tag = rules[i][\"tag\"]\n",
    "\n",
    "    json_response = connect_to_endpoint(endpoint_url, headers, query_parameters)\n",
    "    tweets_data, users_data = process_twitter_data(\n",
    "        json_response, query_tag, tweets_data, users_data\n",
    "    )\n",
    "\n",
    "    time.sleep(5)\n",
    "\n",
    "    while \"next_token\" in json_response[\"meta\"]:\n",
    "        query_parameters[\"next_token\"] = json_response[\"meta\"][\"next_token\"]\n",
    "\n",
    "        json_response = connect_to_endpoint(endpoint_url, headers, query_parameters)\n",
    "        tweets_data, users_data = process_twitter_data(\n",
    "            json_response, query_tag, tweets_data, users_data\n",
    "        )\n",
    "\n",
    "        time.sleep(5)"
   ]
  },
  {
   "cell_type": "code",
   "execution_count": null,
   "id": "def46f36-f7ca-4b26-af6a-e2ebc487ee4b",
   "metadata": {},
   "outputs": [],
   "source": []
  }
 ],
 "metadata": {
  "kernelspec": {
   "display_name": "Python 3 (ipykernel)",
   "language": "python",
   "name": "python3"
  },
  "language_info": {
   "codemirror_mode": {
    "name": "ipython",
    "version": 3
   },
   "file_extension": ".py",
   "mimetype": "text/x-python",
   "name": "python",
   "nbconvert_exporter": "python",
   "pygments_lexer": "ipython3",
   "version": "3.11.2"
  }
 },
 "nbformat": 4,
 "nbformat_minor": 5
}
